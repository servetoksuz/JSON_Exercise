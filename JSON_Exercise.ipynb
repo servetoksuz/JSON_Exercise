{ 
 "cells": [ 
  {
   "cell_type": "code",
   "execution_count": 21, 
   "metadata": {},
   "outputs": [],
   "source": [
    "#Import packages\n",
    "import pandas as pd \n",
    "import numpy as np\n",
    "import json\n",
    "from pandas.io.json import json_normalize\n",
    "import matplotlib.pyplot as plt"
   ]
  },
  {
   "cell_type": "code",
   "execution_count": 22,
   "metadata": {},
   "outputs": [],
   "source": [
    "#Import the file 'C:\\\\Users\\Servet\\Desktop\\world_bank_projects.json' as a DataFrame\n",
    "world_bank_projects = pd.read_json('C:\\\\Users\\Servet\\Desktop\\world_bank_projects.json')"
   ]
  },
  {
   "cell_type": "code",
   "execution_count": 23,
   "metadata": {},
   "outputs": [
    {
     "name": "stdout",
     "output_type": "stream",
     "text": [
      "(500, 50)\n",
      "__________________________\n",
      "<bound method DataFrame.info of                                                 sector supplementprojectflg  \\\n",
      "0    [{'Name': 'Primary education'}, {'Name': 'Seco...                    N   \n",
      "1    [{'Name': 'Public administration- Other social...                    N   \n",
      "2    [{'Name': 'Rural and Inter-Urban Roads and Hig...                    Y   \n",
      "3                  [{'Name': 'Other social services'}]                    N   \n",
      "4    [{'Name': 'General industry and trade sector'}...                    N   \n",
      "..                                                 ...                  ...   \n",
      "495  [{'Name': 'General agriculture, fishing and fo...                    N   \n",
      "496  [{'Name': 'Central government administration'}...                    N   \n",
      "497  [{'Name': 'Irrigation and drainage'}, {'Name':...                    N   \n",
      "498  [{'Name': 'Agricultural extension and research...                    N   \n",
      "499  [{'Name': 'Urban Transport'}, {'Name': 'Public...                    N   \n",
      "\n",
      "    projectfinancialtype prodline  \\\n",
      "0                    IDA       PE   \n",
      "1                  OTHER       RE   \n",
      "2                    IDA       PE   \n",
      "3                  OTHER       RE   \n",
      "4                    IDA       PE   \n",
      "..                   ...      ...   \n",
      "495                OTHER       RE   \n",
      "496                  IDA       PE   \n",
      "497                OTHER       RE   \n",
      "498                 IBRD       PE   \n",
      "499                  IDA       PE   \n",
      "\n",
      "                                               mjtheme  idacommamt  \\\n",
      "0                                  [Human development]   130000000   \n",
      "1    [Economic management, Social protection and ri...           0   \n",
      "2    [Trade and integration, Public sector governan...     6060000   \n",
      "3    [Social dev/gender/inclusion, Social dev/gende...           0   \n",
      "4    [Trade and integration, Financial and private ...    13100000   \n",
      "..                                                 ...         ...   \n",
      "495  [Financial and private sector development, Soc...           0   \n",
      "496  [Human development, Trade and integration, Pub...    20000000   \n",
      "497                                [Rural development]           0   \n",
      "498  [Rural development, Rural development, Rural d...           0   \n",
      "499  [Urban development, Human development, Trade a...   300000000   \n",
      "\n",
      "                                             impagency  \\\n",
      "0                                MINISTRY OF EDUCATION   \n",
      "1                                  MINISTRY OF FINANCE   \n",
      "2             MINISTRY OF TRANSPORT AND COMMUNICATIONS   \n",
      "3             LABOR INTENSIVE PUBLIC WORKS PROJECT PMU   \n",
      "4                       MINISTRY OF TRADE AND INDUSTRY   \n",
      "..                                                 ...   \n",
      "495                        THE COMPETITIVENESS COMPANY   \n",
      "496                                MINISTRY OF FINANCE   \n",
      "497  MINISTRY OF AGRICULTURE AND PRODUCER ORGANISAT...   \n",
      "498  INDONESIAN AGENCY FOR AGRICULTURAL RESEARCH AN...   \n",
      "499                                  MINISTRY OF ROADS   \n",
      "\n", 
      "                                          project_name mjthemecode  \\\n",
      "0    Ethiopia General Education Quality Improvement...        8,11   \n",
      "1            TN: DTF Social Protection Reforms Support         1,6   \n",
      "2    Tuvalu Aviation Investment Project - Additiona...    5,2,11,6   \n",
      "3     Gov't and Civil Society Organization Partnership         7,7   \n",
      "4    Second Private Sector Competitiveness and Econ...         5,4   \n",
      "..                                                 ...         ...   \n",
      "495  Technological Scale Up for Youth-led Urban Orn...         4,7   \n",
      "496                Lao Eight Poverty Reduction Support     8,5,2,8   \n",
      "497  Second Emergency Agricultural Productivity Sup...        10,6   \n",
      "498  Sustainable Management of Agricultural Researc...    10,10,10   \n",
      "499  KENYA: NATIONAL URBAN TRANSPORT IMPROVEMENT PR...     9,8,5,4   \n",
      "\n",
      "              closingdate  ...  \\\n",
      "0    2018-07-07T00:00:00Z  ...   \n",
      "1                     NaN  ...   \n",
      "2                     NaN  ...   \n",
      "3                     NaN  ...   \n",
      "4    2019-04-30T00:00:00Z  ...   \n",
      "..                    ...  ...   \n",
      "495  2013-08-31T00:00:00Z  ...   \n",
      "496  2012-12-31T00:00:00Z  ...   \n",
      "497  2014-12-31T00:00:00Z  ...   \n",
      "498  2017-09-30T00:00:00Z  ...   \n",
      "499  2018-12-31T00:00:00Z  ...   \n",
      "\n",
      "                                   majorsector_percent board_approval_month  \\\n",
      "0    [{'Percent': 46, 'Name': 'Education'}, {'Perce...             November   \n",
      "1    [{'Percent': 70, 'Name': 'Public Administratio...             November   \n",
      "2         [{'Percent': 100, 'Name': 'Transportation'}]             November   \n",
      "3    [{'Percent': 100, 'Name': 'Health and other so...              October   \n",
      "4    [{'Percent': 50, 'Name': 'Industry and trade'}...              October   \n",
      "..                                                 ...                  ...   \n",
      "495  [{'Percent': 50, 'Name': 'Agriculture, fishing...               August   \n",
      "496  [{'Percent': 36, 'Name': 'Public Administratio...               August   \n",
      "497  [{'Percent': 40, 'Name': 'Agriculture, fishing...               August   \n",
      "498  [{'Percent': 80, 'Name': 'Agriculture, fishing...               August   \n",
      "499  [{'Percent': 79, 'Name': 'Transportation'}, {'...               August   \n",
      "\n",
      "                                        theme_namecode  \\\n",
      "0        [{'code': '65', 'name': 'Education for all'}]   \n",
      "1    [{'code': '24', 'name': 'Other economic manage...   \n",
      "2    [{'code': '47', 'name': 'Regional integration'...   \n",
      "3    [{'code': '57', 'name': 'Participation and civ...   \n",
      "4    [{'code': '45', 'name': 'Export development an...   \n",
      "..                                                 ...   \n",
      "495  [{'code': '40', 'name': 'Regulation and compet...   \n",
      "496  [{'code': '63', 'name': 'Child health'}, {'cod...   \n",
      "497  [{'code': '91', 'name': 'Global food crisis re...   \n",
      "498  [{'code': '78', 'name': 'Rural services and in...   \n",
      "499  [{'code': '73', 'name': 'Municipal governance ...   \n",
      "\n",
      "                                 countryname  \\\n",
      "0    Federal Democratic Republic of Ethiopia   \n",
      "1                        Republic of Tunisia   \n",
      "2                                     Tuvalu   \n",
      "3                          Republic of Yemen   \n",
      "4                         Kingdom of Lesotho   \n",
      "..                                       ...   \n",
      "495                                  Jamaica   \n",
      "496         Lao People's Democratic Republic   \n",
      "497                       Republic of Guinea   \n",
      "498                    Republic of Indonesia   \n",
      "499                        Republic of Kenya   \n",
      "\n",
      "                                                   url source  \\\n",
      "0    http://www.worldbank.org/projects/P129828/ethi...   IBRD   \n",
      "1    http://www.worldbank.org/projects/P144674?lang=en   IBRD   \n",
      "2    http://www.worldbank.org/projects/P145310?lang=en   IBRD   \n",
      "3    http://www.worldbank.org/projects/P144665?lang=en   IBRD   \n",
      "4    http://www.worldbank.org/projects/P144933/seco...   IBRD   \n",
      "..                                                 ...    ...   \n",
      "495  http://www.worldbank.org/projects/P127299/tech...   IBRD   \n",
      "496  http://www.worldbank.org/projects/P125298/lao-...   IBRD   \n",
      "497  http://www.worldbank.org/projects/P128309/seco...   IBRD   \n",
      "498  http://www.worldbank.org/projects/P117243/sust...   IBRD   \n",
      "499  http://www.worldbank.org/projects/P126321/keny...   IBRD   \n",
      "\n",
      "    projectstatusdisplay ibrdcommamt  \\\n",
      "0                 Active           0   \n",
      "1                 Active           0   \n",
      "2                 Active           0   \n",
      "3                 Active           0   \n",
      "4                 Active           0   \n",
      "..                   ...         ...   \n",
      "495               Closed           0   \n",
      "496               Closed           0   \n",
      "497               Active           0   \n",
      "498               Active    80000000   \n",
      "499               Active           0   \n",
      "\n",
      "                                       sector_namecode  \\\n",
      "0    [{'code': 'EP', 'name': 'Primary education'}, ...   \n",
      "1    [{'code': 'BS', 'name': 'Public administration...   \n",
      "2    [{'code': 'TI', 'name': 'Rural and Inter-Urban...   \n",
      "3    [{'code': 'JB', 'name': 'Other social services'}]   \n",
      "4    [{'code': 'YZ', 'name': 'General industry and ...   \n",
      "..                                                 ...   \n",
      "495  [{'code': 'AZ', 'name': 'General agriculture, ...   \n",
      "496  [{'code': 'BC', 'name': 'Central government ad...   \n",
      "497  [{'code': 'AI', 'name': 'Irrigation and draina...   \n",
      "498  [{'code': 'AB', 'name': 'Agricultural extensio...   \n",
      "499  [{'code': 'TC', 'name': 'Urban Transport'}, {'...   \n",
      "\n",
      "                                      _id  \n",
      "0    {'$oid': '52b213b38594d8a2be17c780'}  \n",
      "1    {'$oid': '52b213b38594d8a2be17c781'}  \n",
      "2    {'$oid': '52b213b38594d8a2be17c782'}  \n",
      "3    {'$oid': '52b213b38594d8a2be17c783'}  \n",
      "4    {'$oid': '52b213b38594d8a2be17c784'}  \n",
      "..                                    ...  \n",
      "495  {'$oid': '52b213b38594d8a2be17c96f'}  \n",
      "496  {'$oid': '52b213b38594d8a2be17c970'}  \n",
      "497  {'$oid': '52b213b38594d8a2be17c971'}  \n",
      "498  {'$oid': '52b213b38594d8a2be17c972'}  \n",
      "499  {'$oid': '52b213b38594d8a2be17c973'}  \n",
      "\n",
      "[500 rows x 50 columns]>\n",
      "__________________________\n",
      "                                              sector supplementprojectflg  \\\n",
      "0  [{'Name': 'Primary education'}, {'Name': 'Seco...                    N   \n",
      "1  [{'Name': 'Public administration- Other social...                    N   \n",
      "2  [{'Name': 'Rural and Inter-Urban Roads and Hig...                    Y   \n",
      "3                [{'Name': 'Other social services'}]                    N   \n",
      "4  [{'Name': 'General industry and trade sector'}...                    N   \n",
      "\n",
      "  projectfinancialtype prodline  \\\n",
      "0                  IDA       PE   \n",
      "1                OTHER       RE   \n",
      "2                  IDA       PE   \n",
      "3                OTHER       RE   \n",
      "4                  IDA       PE   \n",
      "\n",
      "                                             mjtheme  idacommamt  \\\n",
      "0                                [Human development]   130000000   \n",
      "1  [Economic management, Social protection and ri...           0   \n",
      "2  [Trade and integration, Public sector governan...     6060000   \n",
      "3  [Social dev/gender/inclusion, Social dev/gende...           0   \n",
      "4  [Trade and integration, Financial and private ...    13100000   \n",
      "\n",
      "                                  impagency  \\\n",
      "0                     MINISTRY OF EDUCATION   \n",
      "1                       MINISTRY OF FINANCE   \n",
      "2  MINISTRY OF TRANSPORT AND COMMUNICATIONS   \n",
      "3  LABOR INTENSIVE PUBLIC WORKS PROJECT PMU   \n",
      "4            MINISTRY OF TRADE AND INDUSTRY   \n",
      "\n",
      "                                        project_name mjthemecode  \\\n",
      "0  Ethiopia General Education Quality Improvement...        8,11   \n",
      "1          TN: DTF Social Protection Reforms Support         1,6   \n",
      "2  Tuvalu Aviation Investment Project - Additiona...    5,2,11,6   \n",
      "3   Gov't and Civil Society Organization Partnership         7,7   \n",
      "4  Second Private Sector Competitiveness and Econ...         5,4   \n",
      "\n",
      "            closingdate  ...  \\\n",
      "0  2018-07-07T00:00:00Z  ...   \n",
      "1                   NaN  ...   \n",
      "2                   NaN  ...   \n",
      "3                   NaN  ...   \n",
      "4  2019-04-30T00:00:00Z  ...   \n",
      "\n",
      "                                 majorsector_percent board_approval_month  \\\n",
      "0  [{'Percent': 46, 'Name': 'Education'}, {'Perce...             November   \n",
      "1  [{'Percent': 70, 'Name': 'Public Administratio...             November   \n",
      "2       [{'Percent': 100, 'Name': 'Transportation'}]             November   \n",
      "3  [{'Percent': 100, 'Name': 'Health and other so...              October   \n",
      "4  [{'Percent': 50, 'Name': 'Industry and trade'}...              October   \n",
      "\n",
      "                                      theme_namecode  \\\n",
      "0      [{'code': '65', 'name': 'Education for all'}]   \n",
      "1  [{'code': '24', 'name': 'Other economic manage...   \n",
      "2  [{'code': '47', 'name': 'Regional integration'...   \n",
      "3  [{'code': '57', 'name': 'Participation and civ...   \n",
      "4  [{'code': '45', 'name': 'Export development an...   \n",
      "\n",
      "                               countryname  \\\n",
      "0  Federal Democratic Republic of Ethiopia   \n",
      "1                      Republic of Tunisia   \n",
      "2                                   Tuvalu   \n",
      "3                        Republic of Yemen   \n",
      "4                       Kingdom of Lesotho   \n",
      "\n",
      "                                                 url source  \\\n",
      "0  http://www.worldbank.org/projects/P129828/ethi...   IBRD   \n",
      "1  http://www.worldbank.org/projects/P144674?lang=en   IBRD   \n",
      "2  http://www.worldbank.org/projects/P145310?lang=en   IBRD   \n",
      "3  http://www.worldbank.org/projects/P144665?lang=en   IBRD   \n",
      "4  http://www.worldbank.org/projects/P144933/seco...   IBRD   \n",
      "\n",
      "  projectstatusdisplay ibrdcommamt  \\\n",
      "0               Active           0   \n",
      "1               Active           0   \n",
      "2               Active           0   \n",
      "3               Active           0   \n",
      "4               Active           0   \n",
      "\n",
      "                                     sector_namecode  \\\n",
      "0  [{'code': 'EP', 'name': 'Primary education'}, ...   \n",
      "1  [{'code': 'BS', 'name': 'Public administration...   \n",
      "2  [{'code': 'TI', 'name': 'Rural and Inter-Urban...   \n",
      "3  [{'code': 'JB', 'name': 'Other social services'}]   \n",
      "4  [{'code': 'YZ', 'name': 'General industry and ...   \n",
      "\n",
      "                                    _id  \n",
      "0  {'$oid': '52b213b38594d8a2be17c780'}  \n",
      "1  {'$oid': '52b213b38594d8a2be17c781'}  \n",
      "2  {'$oid': '52b213b38594d8a2be17c782'}  \n",
      "3  {'$oid': '52b213b38594d8a2be17c783'}  \n",
      "4  {'$oid': '52b213b38594d8a2be17c784'}  \n",
      "\n",
      "[5 rows x 50 columns]\n"
     ]
    }
   ],
   "source": [
    "#Find some details about the data frame\n",
    "print(world_bank_projects.shape)\n",
    "print('__________________________')\n",
    "print(world_bank_projects.info)\n",
    "print('__________________________')\n",
    "print(world_bank_projects.head())"
   ]
  },
  {
   "cell_type": "code",
   "execution_count": 24,
   "metadata": {},
   "outputs": [
    {
     "name": "stdout",
     "output_type": "stream",
     "text": [
      "People's Republic of China         19\n",
      "Republic of Indonesia              19\n",
      "Socialist Republic of Vietnam      17\n",
      "Republic of India                  16\n",
      "Republic of Yemen                  13\n",
      "People's Republic of Bangladesh    12\n",
      "Kingdom of Morocco                 12\n",
      "Nepal                              12\n",
      "Republic of Mozambique             11\n",
      "Africa                             11\n",
      "Name: countryname, dtype: int64\n"
     ]
    }
   ],
   "source": [
    "#From the DataFrame: world_bank_projects, we will find the 10 countries with the most projects.\n",
    "#We will use the column ['countryname'] from the DataFrame and by value_counts() method, we will see the frequencies\n",
    "#We will use sort_values method to order the frequencies, and by (ascending = False) we will order from greatest to least.\n",
    "most_frequent_country = world_bank_projects['countryname'].value_counts().sort_values(ascending = False)\n",
    "print(most_frequent_country[:10])"
   ]
  },
  {
   "cell_type": "code",
   "execution_count": null,
   "metadata": {},
   "outputs": [],
   "source": []
  },
  {
   "cell_type": "code",
   "execution_count": 60,
   "metadata": {
    "scrolled": true
   },
   "outputs": [
    {
     "name": "stderr",
     "output_type": "stream",
     "text": [
      "C:\\Users\\Servet\\AppData\\Local\\Continuum\\anaconda\\lib\\site-packages\\ipykernel_launcher.py:1: FutureWarning: `Series.plot()` should not be called with positional arguments, only keyword arguments. The order of positional arguments will change in the future. Use `Series.plot(kind='pie')` instead of `Series.plot('pie',)`.\n",
      "  \"\"\"Entry point for launching an IPython kernel.\n"
     ]
    },
    {
     "data": {
      "text/plain": [
       "<matplotlib.axes._subplots.AxesSubplot at 0x1dfd6e87d88>"
      ]
     },
     "execution_count": 60,
     "metadata": {},
     "output_type": "execute_result"
    },
    {
     "data": {
      "image/png": "[encoded data removed]",
      "text/plain": [
       "<Figure size 432x288 with 1 Axes>"
      ]
     },
     "metadata": {},
     "output_type": "display_data"
    }
   ],
   "source": [
    "# We will display the 10 most frequent country names in a pie chart\n",
    "most_frequent_country[:10].plot('pie')"
   ]
  },
  {
   "cell_type": "code",
   "execution_count": 12,
   "metadata": {},
   "outputs": [
    {
     "name": "stdout",
     "output_type": "stream",
     "text": [
      "0      [{'code': '8', 'name': 'Human development'}, {...\n",
      "1      [{'code': '1', 'name': 'Economic management'},...\n",
      "2      [{'code': '5', 'name': 'Trade and integration'...\n",
      "3      [{'code': '7', 'name': 'Social dev/gender/incl...\n",
      "4      [{'code': '5', 'name': 'Trade and integration'...\n",
      "                             ...                        \n",
      "495    [{'code': '4', 'name': 'Financial and private ...\n",
      "496    [{'code': '8', 'name': 'Human development'}, {...\n",
      "497    [{'code': '10', 'name': 'Rural development'}, ...\n",
      "498    [{'code': '10', 'name': 'Rural development'}, ...\n",
      "499    [{'code': '9', 'name': 'Urban development'}, {...\n",
      "Name: mjtheme_namecode, Length: 500, dtype: object\n"
     ]
    }
   ],
   "source": [
    "#We will firstly examine the structure of the column: 'mjtheme_namecode'\n",
    "print(world_bank_projects['mjtheme_namecode'])"
   ]
  },
  {
   "cell_type": "code",
   "execution_count": 19,
   "metadata": {},
   "outputs": [
    {
     "name": "stdout",
     "output_type": "stream",
     "text": [
      "<bound method NDFrame.head of      code                                      name\n",
      "0       8                         Human development\n",
      "1      11                                          \n",
      "2       1                       Economic management\n",
      "3       6     Social protection and risk management\n",
      "4       5                     Trade and integration\n",
      "...   ...                                       ...\n",
      "1494   10                         Rural development\n",
      "1495    9                         Urban development\n",
      "1496    8                         Human development\n",
      "1497    5                     Trade and integration\n",
      "1498    4  Financial and private sector development\n",
      "\n",
      "[1499 rows x 2 columns]>\n"
     ]
    }
   ],
   "source": [
    "# We will extract the dictionary to columns by normalization method\n",
    "project_list = json.load(open('C:\\\\Users\\Servet\\Desktop\\world_bank_projects.json'))\n",
    "mjtheme_namecode = json_normalize(project_list, 'mjtheme_namecode')\n",
    "\n",
    "#we will check the head to check the format\n",
    "print(mjtheme_namecode.head)"
   ]
  },
  {
   "cell_type": "code",
   "execution_count": 20,
   "metadata": {},
   "outputs": [
    {
     "name": "stdout",
     "output_type": "stream",
     "text": [
      "Environment and natural resources management    223\n",
      "Rural development                               202\n",
      "Human development                               197\n",
      "Public sector governance                        184\n",
      "Social protection and risk management           158\n",
      "Financial and private sector development        130\n",
      "                                                122\n",
      "Social dev/gender/inclusion                     119\n",
      "Trade and integration                            72\n",
      "Urban development                                47\n",
      "Name: name, dtype: int64\n"
     ]
    }
   ],
   "source": [
    "# We will find the 10 most frequent items by value_counts() and sort_values_method\n",
    "most_frequent_name = mjtheme_namecode['name'].value_counts().sort_values(ascending = False)\n",
    "print(most_frequent_name[:10])"
   ]
  },
  {
   "cell_type": "code",
   "execution_count": 53,
   "metadata": {},
   "outputs": [
    {
     "name": "stderr",
     "output_type": "stream",
     "text": [
      "C:\\Users\\Servet\\AppData\\Local\\Continuum\\anaconda\\lib\\site-packages\\ipykernel_launcher.py:2: FutureWarning: `Series.plot()` should not be called with positional arguments, only keyword arguments. The order of positional arguments will change in the future. Use `Series.plot(kind='bar')` instead of `Series.plot('bar',)`.\n",
      "  \n"
     ]
    },
    {
     "data": {
      "image/png": "[encoded data removed]",
      "text/plain": [
       "<Figure size 432x288 with 1 Axes>"
      ]
     },
     "metadata": {
      "needs_background": "light"
     },
     "output_type": "display_data"
    }
   ],
   "source": [
    "# We will draw a bar blot to visualize the data\n",
    "mjtheme_namecode['name'].value_counts().plot('bar')\n",
    "plt.show()"
   ]
  },
   {
   "cell_type": "code",
   "execution_count": 32,
   "metadata": {},
   "outputs": [
    {
     "name": "stdout",
     "output_type": "stream",
     "text": [
      "<class 'pandas.core.frame.DataFrame'>\n",
      "RangeIndex: 1499 entries, 0 to 1498\n",
      "Data columns (total 2 columns):\n",
      "code    1499 non-null object\n",
      "name    1499 non-null object\n",
      "dtypes: object(2)\n",
      "memory usage: 23.5+ KB\n"
     ]
    }
   ],
   "source": [
    "# We will check the datatypes of each column\n",
    "mjtheme_namecode.info()"
   ]
  },
  {
   "cell_type": "code",
   "execution_count": 34,
   "metadata": {},
   "outputs": [
    {
     "name": "stdout",
     "output_type": "stream",
     "text": [
      "<class 'pandas.core.frame.DataFrame'>\n",
      "RangeIndex: 1499 entries, 0 to 1498\n",
      "Data columns (total 2 columns):\n",
      "code    1499 non-null int64\n",
      "name    1499 non-null object\n",
      "dtypes: int64(1), object(1)\n",
      "memory usage: 23.5+ KB\n",
      "None\n"
     ]
    }
   ],
   "source": [
    "# The code column is object, instead of integer. We will change it to int64 format by pd.to_numeric method\n",
    "mjtheme_namecode['code'] = pd.to_numeric(mjtheme_namecode['code'])\n",
    "print(mjtheme_namecode.info())"
   ]
  },
  {
   "cell_type": "code",
   "execution_count": 48,
   "metadata": {},
   "outputs": [
    {
     "name": "stdout",
     "output_type": "stream",
     "text": [
      "      code                      name\n",
      "2        1       Economic management\n",
      "88       1       Economic management\n",
      "175      1       Economic management\n",
      "204      1       Economic management\n",
      "205      1       Economic management\n",
      "220      1       Economic management\n",
      "222      1       Economic management\n",
      "223      1       Economic management\n",
      "249      1       Economic management\n",
      "357      1       Economic management\n",
      "453      1       Economic management\n",
      "454      1       Economic management\n",
      "458      1       Economic management\n",
      "497      1       Economic management\n",
      "647      1       Economic management\n",
      "648      1       Economic management\n",
      "784      1       Economic management\n",
      "803      1       Economic management\n",
      "841      1       Economic management\n",
      "900      1       Economic management\n",
      "1010     1       Economic management\n",
      "1045     1       Economic management\n",
      "1056     1       Economic management\n",
      "1057     1       Economic management\n",
      "1078     1       Economic management\n",
      "1206     1       Economic management\n",
      "1212     1       Economic management\n",
      "1218     1       Economic management\n",
      "1229     1       Economic management\n",
      "1230     1       Economic management\n",
      "1235     1       Economic management\n",
      "1257     1       Economic management\n",
      "1260     1       Economic management\n",
      "212      1                       NaN\n",
      "363      1                       NaN\n",
      "1024     1                       NaN\n",
      "1114     1                       NaN\n",
      "1437     1                       NaN\n",
      "5        2  Public sector governance\n",
      "14       2  Public sector governance\n",
      "20       2  Public sector governance\n",
      "21       2  Public sector governance\n",
      "22       2  Public sector governance\n",
      "45       2  Public sector governance\n",
      "48       2  Public sector governance\n",
      "49       2  Public sector governance\n",
      "50       2  Public sector governance\n",
      "68       2  Public sector governance\n",
      "71       2  Public sector governance\n",
      "90       2  Public sector governance\n",
      "106      2  Public sector governance\n",
      "114      2  Public sector governance\n",
      "115      2  Public sector governance\n",
      "116      2  Public sector governance\n",
      "122      2  Public sector governance\n",
      "132      2  Public sector governance\n",
      "143      2  Public sector governance\n",
      "145      2  Public sector governance\n",
      "157      2  Public sector governance\n",
      "162      2  Public sector governance\n"
     ]
    }
   ],
   "source": [
    "# Now, we will replace the empty entries with NaN\n",
    "mjtheme_with_NaN = mjtheme_namecode.replace('', np.nan)\n",
    "\n",
    "# We will sort based on the codes\n",
    "mjtheme_with_NaN = mjtheme_with_NaN.sort_values(['code','name'])\n",
    "print(mjtheme_with_NaN[:60])"
   ]
  },
  {
   "cell_type": "code",
   "execution_count": 50,
   "metadata": {},
   "outputs": [
    {
     "name": "stdout",
     "output_type": "stream",
     "text": [
      "      code                      name\n",
      "2        1       Economic management\n",
      "88       1       Economic management\n",
      "175      1       Economic management\n",
      "204      1       Economic management\n",
      "205      1       Economic management\n",
      "220      1       Economic management\n",
      "222      1       Economic management\n",
      "223      1       Economic management\n",
      "249      1       Economic management\n",
      "357      1       Economic management\n",
      "453      1       Economic management\n",
      "454      1       Economic management\n",
      "458      1       Economic management\n",
      "497      1       Economic management\n",
      "647      1       Economic management\n",
      "648      1       Economic management\n",
      "784      1       Economic management\n",
      "803      1       Economic management\n",
      "841      1       Economic management\n",
      "900      1       Economic management\n",
      "1010     1       Economic management\n",
      "1045     1       Economic management\n",
      "1056     1       Economic management\n",
      "1057     1       Economic management\n",
      "1078     1       Economic management\n",
      "1206     1       Economic management\n",
      "1212     1       Economic management\n",
      "1218     1       Economic management\n",
      "1229     1       Economic management\n",
      "1230     1       Economic management\n",
      "1235     1       Economic management\n",
      "1257     1       Economic management\n",
      "1260     1       Economic management\n",
      "212      1       Economic management\n",
      "363      1       Economic management\n",
      "1024     1       Economic management\n",
      "1114     1       Economic management\n",
      "1437     1       Economic management\n",
      "5        2  Public sector governance\n",
      "14       2  Public sector governance\n",
      "20       2  Public sector governance\n",
      "21       2  Public sector governance\n",
      "22       2  Public sector governance\n",
      "45       2  Public sector governance\n",
      "48       2  Public sector governance\n",
      "49       2  Public sector governance\n",
      "50       2  Public sector governance\n",
      "68       2  Public sector governance\n",
      "71       2  Public sector governance\n",
      "90       2  Public sector governance\n",
      "106      2  Public sector governance\n",
      "114      2  Public sector governance\n",
      "115      2  Public sector governance\n",
      "116      2  Public sector governance\n",
      "122      2  Public sector governance\n",
      "132      2  Public sector governance\n",
      "143      2  Public sector governance\n",
      "145      2  Public sector governance\n",
      "157      2  Public sector governance\n",
      "162      2  Public sector governance\n"
     ]
    }
   ],
   "source": [
    "# NaN values appear with code:1. We will use ffill method to fill NaN values with the last valid values\n",
    "mjtheme_with_NaN_filled = mjtheme_with_NaN.fillna(method = 'ffill')\n",
    "\n",
    "# We will check the first 60 entries\n",
    "print(mjtheme_with_NaN_filled[:60])"
   ]
  },
  {
   "cell_type": "code",
   "execution_count": 52,
   "metadata": {},
   "outputs": [
    {
     "name": "stdout",
     "output_type": "stream",
     "text": [
      "Environment and natural resources management    250\n",
      "Rural development                               216\n",
      "Human development                               210\n",
      "Public sector governance                        199\n",
      "Social protection and risk management           168\n",
      "Financial and private sector development        146\n",
      "Social dev/gender/inclusion                     130\n",
      "Trade and integration                            77\n",
      "Urban development                                50\n",
      "Economic management                              38\n",
      "Name: name, dtype: int64\n"
     ]
    }
   ],
   "source": [
    "# Now we will do the same analysis once again as in Question 2:\n",
    "most_frequent_name_filled = mjtheme_with_NaN_filled['name'].value_counts().sort_values(ascending = False)\n",
    "print(most_frequent_name_filled[:10])"
   ]
  },
  {
   "cell_type": "code",
   "execution_count": 54,
   "metadata": {
    "scrolled": true
   },
   "outputs": [
    {
     "name": "stderr",
     "output_type": "stream",
     "text": [
      "C:\\Users\\Servet\\AppData\\Local\\Continuum\\anaconda\\lib\\site-packages\\ipykernel_launcher.py:2: FutureWarning: `Series.plot()` should not be called with positional arguments, only keyword arguments. The order of positional arguments will change in the future. Use `Series.plot(kind='bar')` instead of `Series.plot('bar',)`.\n",
      "  \n"
     ]
    },
    {
     "data": {
      "image/png": "[encoded data removed]",
      "text/plain": [
       "<Figure size 432x288 with 1 Axes>"
      ]
     },
     "metadata": {
      "needs_background": "light"
     },
     "output_type": "display_data"
    }
   ],
   "source": [
    "# And we will plot a new bar graph\n",
    "mjtheme_with_NaN_filled['name'].value_counts().plot('bar')\n",
    "plt.show()"
   ]
  },
  {
   "cell_type": "code",
   "execution_count": null,
   "metadata": {},
   "outputs": [],
   "source": []
  },
  {
   "cell_type": "code",
   "execution_count": null,
   "metadata": {},
   "outputs": [],
   "source": []
  },
  {
   "cell_type": "code",
   "execution_count": null,
   "metadata": {},
   "outputs": [],
   "source": []
  }
 ],
 "metadata": {
  "kernelspec": {
   "display_name": "Python 3",
   "language": "python",
   "name": "python3"
  },
  "language_info": {
   "codemirror_mode": {
    "name": "ipython",
    "version": 3
   },
   "file_extension": ".py",
   "mimetype": "text/x-python",
   "name": "python",
   "nbconvert_exporter": "python",
   "pygments_lexer": "ipython3",
   "version": "3.7.4"
  }
 },
 "nbformat": 4,
 "nbformat_minor": 2
}
